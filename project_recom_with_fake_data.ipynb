{
  "nbformat": 4,
  "nbformat_minor": 0,
  "metadata": {
    "colab": {
      "name": "project_recom_with_fake_data.ipynb",
      "provenance": []
    },
    "kernelspec": {
      "name": "python3",
      "display_name": "Python 3"
    },
    "language_info": {
      "name": "python"
    }
  },
  "cells": [
    {
      "cell_type": "markdown",
      "source": [
        "#Project_sim"
      ],
      "metadata": {
        "id": "IDHegJbGYiE_"
      }
    },
    {
      "cell_type": "code",
      "execution_count": null,
      "metadata": {
        "id": "cHfrN-lmW0Lq"
      },
      "outputs": [],
      "source": [
        "# -*- coding: utf-8 -*-\n",
        "#files required to run: \n",
        "#universal_sentence_vectorizer, tf_idf_vectorizer, project_list, project_features\n",
        "from universal_sentence_vectorizer import ContentVectorizer\n",
        "from sklearn.metrics.pairwise import cosine_similarity\n",
        "from tf_idf_vectorizer import tf_idf_model\n",
        "import pandas as pd\n",
        "import json\n",
        "from sqlalchemy import create_engine\n",
        "\n",
        "\n",
        "class project_sim(object):\n",
        "    def __init__(self):\n",
        "        with open('project_list.json') as json_file:\n",
        "            project_list = json.load(json_file)\n",
        "        with open('project_features.json') as json_file:\n",
        "            temp_project_dic = json.load(json_file)\n",
        "        project_features = pd.DataFrame(temp_project_dic)   \n",
        "        self.embeddingmodel = ContentVectorizer()\n",
        "        self.tf_idfmodel = tf_idf_model()\n",
        "        self.tf_idfmodel.pca()\n",
        "        \n",
        "    def tf_idf_embedding(self, pid):\n",
        "        return self.tf_idfmodel.embedding[str(pid)]\n",
        "        \n",
        "    def embedding(self, pid):\n",
        "        with open('project_features.json') as json_file:\n",
        "            temp_project_dic = json.load(json_file)\n",
        "        project_features = pd.DataFrame(temp_project_dic)      \n",
        "        return self.embeddingmodel.encode_content(project_features[project_features['index']==pid][['title','description']].to_dict('records')[0])\n",
        "    \n",
        "    def cossin_similarity(self, vec1, vec2):\n",
        "        return cosine_similarity([vec1, vec2])[0][1] * 100\n",
        "\n",
        "    def generate_project_simlarity(self):\n",
        "        with open('project_list.json') as json_file:\n",
        "            project_list = json.load(json_file)\n",
        "        with open('project_features.json') as json_file:\n",
        "            temp_project_dic = json.load(json_file)\n",
        "        project_features = pd.DataFrame(temp_project_dic)\n",
        "        project_list_keylist = []\n",
        "        for key in project_list.keys():\n",
        "            project_list_keylist.append(int(key))\n",
        "        results = []\n",
        "        count = 0\n",
        "        for project1 in project_list_keylist:\n",
        "            encode = []\n",
        "            tfidf = []\n",
        "            for project2 in project_list_keylist:\n",
        "                if project1 != project2:\n",
        "                    encode.append({'pid':project2,'sim_score':self.cossin_similarity(self.embedding(project1),self.embedding(project2))})\n",
        "                    tf_title_score = self.cossin_similarity(self.tf_idfmodel.embedding[str(project1)]['vec_title'], self.tf_idfmodel.embedding[str(project2)]['vec_title'])\n",
        "                    tf_des_score = self.cossin_similarity(self.tf_idfmodel.embedding[str(project1)]['vec_des'], self.tf_idfmodel.embedding[str(project2)]['vec_des'])\n",
        "                    tfidf.append({'pid':project2,'sim_score':0.7*tf_title_score+0.3*tf_des_score})\n",
        "            encode = sorted(encode, key = lambda x: x['sim_score'], reverse = True)[:20]\n",
        "            tfidf = sorted(tfidf, key = lambda x: x['sim_score'], reverse = True)[:20]\n",
        "            for i in range(20):\n",
        "                results.append({'pid':int(project1), \n",
        "                                'encode_sim':int(encode[i]['pid']),\n",
        "                                'encode_sim_score': encode[i]['sim_score'],\n",
        "                                'tfidf_sim':int(tfidf[i]['pid']),\n",
        "                                'tfidf_sim_score': tfidf[i]['sim_score']})\n",
        "            count += 1\n",
        "            print (count)\n",
        "        project_sim_table = pd.DataFrame(results)\n",
        "        project_sim_table.to_csv('project_sim_table.csv',index=False)  \n",
        "    \n",
        "        return project_sim_table\n",
        "    \n",
        "if __name__ == '__main__':\n",
        "    x = project_sim()\n",
        "    sim_results = x.generate_project_simlarity()"
      ]
    },
    {
      "cell_type": "markdown",
      "source": [
        "#data mask"
      ],
      "metadata": {
        "id": "mbx8k4V5aBf7"
      }
    },
    {
      "cell_type": "markdown",
      "source": [
        "##upload project"
      ],
      "metadata": {
        "id": "9ahd2IhCaPtS"
      }
    },
    {
      "cell_type": "code",
      "source": [
        "# -*- coding: utf-8 -*-\n",
        "import json\n",
        "import pandas as pd\n",
        "with open('project_list.json') as json_file:\n",
        "    project_list = json.load(json_file)\n",
        "with open('project_features.json') as json_file:\n",
        "    temp_project_dic = json.load(json_file)\n",
        "project_features = pd.DataFrame(temp_project_dic)  "
      ],
      "metadata": {
        "id": "lEh4GXLsaOtK"
      },
      "execution_count": null,
      "outputs": []
    },
    {
      "cell_type": "code",
      "source": [
        "import random\n",
        "publisher_id = []\n",
        "for i in range(200):\n",
        "  publisher_id.append(random.randrange(1, 40000))\n",
        "#upload_project = project_features['index']\n",
        "upload_project = project_features[['index']].copy()\n",
        "upload_project.rename(columns = {'index':'project_id'}, inplace = True)\n",
        "upload_project['publisher_id'] = publisher_id\n",
        "upload_project"
      ],
      "metadata": {
        "id": "CyqFs4GaaUiT"
      },
      "execution_count": null,
      "outputs": []
    },
    {
      "cell_type": "code",
      "source": [
        "upload_project.to_csv('upload_project.csv',index=False)  "
      ],
      "metadata": {
        "id": "yguuAttTaXvQ"
      },
      "execution_count": null,
      "outputs": []
    },
    {
      "cell_type": "markdown",
      "source": [
        "##user sim table fake"
      ],
      "metadata": {
        "id": "mKPhluElaf9i"
      }
    },
    {
      "cell_type": "code",
      "source": [
        "#pip install DataSynthesizer"
      ],
      "metadata": {
        "id": "uhnG--J7aiy1"
      },
      "execution_count": null,
      "outputs": []
    },
    {
      "cell_type": "code",
      "source": [
        "from DataSynthesizer.DataDescriber import DataDescriber\n",
        "\n",
        "from DataSynthesizer.DataGenerator import DataGenerator\n",
        "\n",
        "from DataSynthesizer.ModelInspector import ModelInspector\n",
        "\n",
        "from DataSynthesizer.lib.utils import read_json_file, display_bayesian_network\n",
        "input_data ='user_sim_table.csv'\n",
        "mode = 'independent_attribute_mode'\n",
        "description_file = 'description.json'\n",
        "synthetic_data = 'sythetic_data.csv'"
      ],
      "metadata": {
        "id": "uK4pXPLcazUB"
      },
      "execution_count": null,
      "outputs": []
    },
    {
      "cell_type": "code",
      "source": [
        "threshold_value = 20 \n",
        "\n",
        "# Number of tuples generated in synthetic dataset.\n",
        "num_tuples_to_generate = 50000 # Here 32561 is the same as input dataset, but it can be set to another number.\n",
        "describer = DataDescriber(category_threshold=threshold_value)\n",
        "describer.describe_dataset_in_random_mode(input_data)\n",
        "describer.save_dataset_description_to_file(description_file)"
      ],
      "metadata": {
        "id": "RF5RP2zZcG-s"
      },
      "execution_count": null,
      "outputs": []
    },
    {
      "cell_type": "code",
      "source": [
        "import pandas as pd\n",
        "\n",
        "# Read both datasets using Pandas.\n",
        "input_df = pd.read_csv(input_data, skipinitialspace=True)\n",
        "synthetic_df = pd.read_csv(synthetic_data)\n",
        "# Read attribute description from the dataset description file.\n",
        "attribute_description = read_json_file(description_file)['attribute_description']\n",
        "\n",
        "inspector = ModelInspector(input_df, synthetic_df, attribute_description)"
      ],
      "metadata": {
        "id": "9IvaB7kocMKd"
      },
      "execution_count": null,
      "outputs": []
    },
    {
      "cell_type": "code",
      "source": [
        "sim_score_df = synthetic_df[['sim_score']]\n",
        "import random\n",
        "from itertools import repeat\n",
        "import numpy as np\n",
        "user_id_ls =random.sample(range(1,2000), 1000)\n",
        "user_id =  [x for item in user_id_ls for x in repeat(item, 50)]\n",
        "user_id.sort()\n",
        "sim_user = np.random.choice(user_id_ls,size=len(user_id)).tolist()\n",
        "user_sim_df = pd.DataFrame(user_id, columns = ['user_id'])\n",
        "user_sim_df['sim_user'] = sim_user\n",
        "user_sim_df['sim_score'] = sim_score_df['sim_score']\n",
        "user_sim_df.to_csv('user_sim_table.csv',index=False)  "
      ],
      "metadata": {
        "id": "zTc8axprcN5V"
      },
      "execution_count": null,
      "outputs": []
    },
    {
      "cell_type": "markdown",
      "source": [
        "##top click"
      ],
      "metadata": {
        "id": "h2JKrkdncTAU"
      }
    },
    {
      "cell_type": "code",
      "source": [
        "import pandas as pd\n",
        "top_click = pd.read_csv('top_click_all.csv')\n",
        "node_list = top_click['node'].tolist()\n",
        "#count number of node in each user\n",
        "node_count = []\n",
        "len(node_list)\n",
        "for item in node_list:\n",
        "  node_count.append(item.count('n'))\n",
        "max_node= max(node_count)\n",
        "#count_node_list\n",
        "node_list_count = [i for i in range(0,max_node+1)]\n",
        "repetition_count = []\n",
        "for i in range(max_node+1):\n",
        "  repetition_count.append(node_count.count(i))\n",
        "sum(repetition_count)\n",
        "node_stats_df = pd.DataFrame(node_list_count, columns= ['num_node_each_user'])\n",
        "node_stats_df['count'] = repetition_count\n",
        "count_perc = []\n",
        "for i in range(max_node+1):\n",
        "  count_perc.append(round(repetition_count[i]/len(node_count)*100,2))\n",
        "node_stats_df['percentage'] = count_perc"
      ],
      "metadata": {
        "id": "jMDgedLwcVIu"
      },
      "execution_count": null,
      "outputs": []
    },
    {
      "cell_type": "code",
      "source": [
        "import re\n",
        "extrat_node = []\n",
        "for item in node_list:\n",
        "  extrat_node.append([int(extrat_node) for extrat_node in re.findall(r'-?\\d+\\.?\\d*', item)])\n",
        "single_node_list = []\n",
        "for item in extrat_node:\n",
        "  for node in item:\n",
        "    single_node_list.append(node)\n",
        "res = {}\n",
        "for i in single_node_list:\n",
        "    res[i] = single_node_list.count(i)\n",
        "node_usage = list(res.values())"
      ],
      "metadata": {
        "id": "hGRFB1MLcaTh"
      },
      "execution_count": null,
      "outputs": []
    },
    {
      "cell_type": "code",
      "source": [
        "print(\"max: \" + str(max(node_usage)))\n",
        "import statistics\n",
        "print(\"mean: \" + str(statistics.mean(node_usage)))\n",
        "less_five_count = 0\n",
        "five_ten_count = 0\n",
        "ten_twenty_count = 0\n",
        "twenty_thirty_count = 0\n",
        "greater_thirty = 0\n",
        "for item in node_usage:\n",
        "  if item <= 5:\n",
        "    less_five_count +=1;\n",
        "  elif item > 5 and item <= 10:\n",
        "    five_ten_count += 1;\n",
        "  elif item > 10 and item <= 20:\n",
        "    ten_twenty_count += 1;\n",
        "  elif item > 20 and item <= 30:\n",
        "    twenty_thirty_count += 1;\n",
        "  else:\n",
        "    greater_thirty += 1\n",
        "print(\"number of project used less than 5: \" + str(less_five_count))\n",
        "print(\"number of project used between 5 and 10: \" + str(five_ten_count))\n",
        "print(\"number of project used between 10 and 20: \" + str(ten_twenty_count))\n",
        "print(\"number of project used between 20 and 30: \" + str(twenty_thirty_count))\n",
        "print(\"number of project used greater 30: \" + str(greater_thirty))\n",
        "#最多的一个project用了39次，平均使用率是1.7"
      ],
      "metadata": {
        "id": "6lQ41beicb5f"
      },
      "execution_count": null,
      "outputs": []
    },
    {
      "cell_type": "code",
      "source": [
        "import json\n",
        "import random\n",
        "with open('project_features.json') as json_file:\n",
        "    temp_project_dic = json.load(json_file)\n",
        "project_features = pd.DataFrame(temp_project_dic)\n",
        "project_num_list = project_features['index'].tolist()\n",
        "project_num_list\n",
        "#assume the first one is used repeatly 35 times\n",
        "for i in range (35):\n",
        "  project_num_list.append(project_num_list[0])\n",
        "#assume the second,third one is used repeatly 25 times\n",
        "for i in range (25):\n",
        "  project_num_list.append(project_num_list[1])\n",
        "  project_num_list.append(project_num_list[2])\n",
        "#assume the forth one is used repeatly 16 times\n",
        "for i in range (16):\n",
        "  project_num_list.append(project_num_list[3])\n",
        "#assume the fifth one is used repeatly 8 times\n",
        "for i in range (8):\n",
        "  project_num_list.append(project_num_list[4])\n",
        "#assume the sixth one is used repeatly 6 times\n",
        "for i in range (6):\n",
        "  project_num_list.append(project_num_list[5])\n",
        "#assume the 7~14 one is used repeatly 3 times\n",
        "for i in range (3):\n",
        "  project_num_list.append(project_num_list[6])\n",
        "  project_num_list.append(project_num_list[7])\n",
        "  project_num_list.append(project_num_list[8])\n",
        "  project_num_list.append(project_num_list[9])\n",
        "  project_num_list.append(project_num_list[10])\n",
        "  project_num_list.append(project_num_list[11])\n",
        "  project_num_list.append(project_num_list[12])\n",
        "  project_num_list.append(project_num_list[13])\n",
        "  project_num_list.append(project_num_list[14])\n",
        "#assume the 14~24 one is used repeatly 2 times\n",
        "for i in range (2):\n",
        "  project_num_list.append(project_num_list[15])\n",
        "  project_num_list.append(project_num_list[16])\n",
        "  project_num_list.append(project_num_list[17])\n",
        "  project_num_list.append(project_num_list[18])\n",
        "  project_num_list.append(project_num_list[19])\n",
        "  project_num_list.append(project_num_list[20])\n",
        "  project_num_list.append(project_num_list[21])\n",
        "  project_num_list.append(project_num_list[22])\n",
        "  project_num_list.append(project_num_list[23])\n",
        "  project_num_list.append(project_num_list[24])\n",
        "random.seed(10)\n",
        "random.shuffle(project_num_list)\n",
        "import numpy as np\n",
        "user_sim_id = pd.read_csv(\"user_sim_table.csv\")\n",
        "user_sim_id_list = user_sim_id['user_id'].tolist()\n",
        "user_sim_id_uni = np.unique(user_sim_id_list).tolist()\n",
        "project_number_list = ['None'] * len(user_sim_id_uni)\n",
        "# 7% of users have 1 project. 7%*1000 = 70\n",
        "for i in range(70):\n",
        "  project_number_list[i] = 1\n",
        "# 3% of users have 2 project. 3%*1000 = 30\n",
        "for i in range(70,100):\n",
        "  project_number_list[i] = 2\n",
        "# 1% of users have 3 project. 1%*1000 = 10\n",
        "for i in range(100,110):\n",
        "  project_number_list[i] = 3\n",
        "# 1% of users have 4 project. 1%*1000 = 10\n",
        "for i in range(110,120):\n",
        "  project_number_list[i] = 4\n",
        "#5~11 projects only 1 person\n",
        "for i in range(120,124):\n",
        "  project_number_list[i] = i-115\n",
        "for i in range(len(project_number_list)):\n",
        "  if project_number_list[i] == 'None':\n",
        "    project_number_list[i] = 0\n",
        "random.shuffle(project_number_list)\n",
        "len(project_number_list)\n",
        "uid_project_id_match = []\n",
        "for i in range(len(user_sim_id_uni)):\n",
        "  uid_project_id_match.append(np.random.choice(project_num_list, project_number_list[i], replace=False).tolist())\n",
        "uid_project_id_match"
      ],
      "metadata": {
        "id": "pJ_Moog3cdwe"
      },
      "execution_count": null,
      "outputs": []
    },
    {
      "cell_type": "code",
      "source": [
        "node = []\n",
        "for i in range(len(uid_project_id_match)):\n",
        "  node_each = \"[\"\n",
        "  if len(uid_project_id_match[i]) == 0:\n",
        "    node_each += \"]\"\n",
        "  else:\n",
        "    for j in range (len(uid_project_id_match[i])-1):\n",
        "      node_each += \"'/node/\"\n",
        "      node_each += str(uid_project_id_match[i][j])\n",
        "      node_each += \"',\"\n",
        "    node_each += \"'/node/\"\n",
        "    node_each += str(uid_project_id_match[i][len(uid_project_id_match[i])-1])\n",
        "    node_each += \"']\"\n",
        "  node.append(node_each)"
      ],
      "metadata": {
        "id": "zwN987UBclEx"
      },
      "execution_count": null,
      "outputs": []
    },
    {
      "cell_type": "code",
      "source": [
        "top_click_all_pd = pd.DataFrame(user_sim_id_uni, columns = ['uid'])\n",
        "top_click_all_pd['node'] = node\n",
        "top_click_all_pd.to_csv('top_click_all.csv',index=False)  "
      ],
      "metadata": {
        "id": "gtFLhsTkcmzK"
      },
      "execution_count": null,
      "outputs": []
    },
    {
      "cell_type": "markdown",
      "source": [
        "## view score"
      ],
      "metadata": {
        "id": "W_tsaODVcn4O"
      }
    },
    {
      "cell_type": "code",
      "source": [
        "import json\n",
        "import random\n",
        "\n",
        "with open('project_list.json') as json_file:\n",
        "  project_dict = json.load(json_file)\n",
        "project_key = list(project_dict.keys())\n",
        "view_score = []\n",
        "for i in range(len(project_key)):\n",
        "  view_score.append(random.random())\n",
        "view_score\n",
        "\n",
        "project_dict_view = {}\n",
        "for key in project_key:\n",
        "    for value in view_score:\n",
        "        project_dict_view[key] = value\n",
        "        view_score.remove(value)\n",
        "        break  \n",
        "project_dict_view\n",
        "\n",
        "with open(\"project_dict_view.json\", \"w\") as outfile:\n",
        "    json.dump(project_dict_view, outfile)"
      ],
      "metadata": {
        "id": "b6VQUdBNcscz"
      },
      "execution_count": null,
      "outputs": []
    },
    {
      "cell_type": "markdown",
      "source": [
        "#project_recom"
      ],
      "metadata": {
        "id": "xxb0oZOrc0-N"
      }
    },
    {
      "cell_type": "markdown",
      "source": [
        "##package"
      ],
      "metadata": {
        "id": "mPYZXiLWdDSo"
      }
    },
    {
      "cell_type": "code",
      "source": [
        "#pip install paramiko"
      ],
      "metadata": {
        "id": "Fkq-78B9dFiz",
        "colab": {
          "base_uri": "https://localhost:8080/"
        },
        "outputId": "49f5b17d-bc96-4722-c48d-d3823b31393b"
      },
      "execution_count": null,
      "outputs": [
        {
          "output_type": "stream",
          "name": "stdout",
          "text": [
            "Looking in indexes: https://pypi.org/simple, https://us-python.pkg.dev/colab-wheels/public/simple/\n",
            "Collecting paramiko\n",
            "  Downloading paramiko-2.11.0-py2.py3-none-any.whl (212 kB)\n",
            "\u001b[K     |████████████████████████████████| 212 kB 4.1 MB/s \n",
            "\u001b[?25hRequirement already satisfied: six in /usr/local/lib/python3.7/dist-packages (from paramiko) (1.15.0)\n",
            "Collecting pynacl>=1.0.1\n",
            "  Downloading PyNaCl-1.5.0-cp36-abi3-manylinux_2_17_x86_64.manylinux2014_x86_64.manylinux_2_24_x86_64.whl (856 kB)\n",
            "\u001b[K     |████████████████████████████████| 856 kB 52.8 MB/s \n",
            "\u001b[?25hCollecting cryptography>=2.5\n",
            "  Downloading cryptography-37.0.4-cp36-abi3-manylinux_2_24_x86_64.whl (4.1 MB)\n",
            "\u001b[K     |████████████████████████████████| 4.1 MB 45.6 MB/s \n",
            "\u001b[?25hCollecting bcrypt>=3.1.3\n",
            "  Downloading bcrypt-3.2.2-cp36-abi3-manylinux_2_17_x86_64.manylinux2014_x86_64.manylinux_2_24_x86_64.whl (62 kB)\n",
            "\u001b[K     |████████████████████████████████| 62 kB 1.1 MB/s \n",
            "\u001b[?25hRequirement already satisfied: cffi>=1.1 in /usr/local/lib/python3.7/dist-packages (from bcrypt>=3.1.3->paramiko) (1.15.1)\n",
            "Requirement already satisfied: pycparser in /usr/local/lib/python3.7/dist-packages (from cffi>=1.1->bcrypt>=3.1.3->paramiko) (2.21)\n",
            "Installing collected packages: pynacl, cryptography, bcrypt, paramiko\n",
            "Successfully installed bcrypt-3.2.2 cryptography-37.0.4 paramiko-2.11.0 pynacl-1.5.0\n"
          ]
        }
      ]
    },
    {
      "cell_type": "code",
      "source": [
        "#pip install pymysql"
      ],
      "metadata": {
        "id": "WHUwkcyodKo8",
        "colab": {
          "base_uri": "https://localhost:8080/"
        },
        "outputId": "d4c23c31-0c64-46fe-c4b3-df3e25f04baf"
      },
      "execution_count": null,
      "outputs": [
        {
          "output_type": "stream",
          "name": "stdout",
          "text": [
            "Looking in indexes: https://pypi.org/simple, https://us-python.pkg.dev/colab-wheels/public/simple/\n",
            "Collecting pymysql\n",
            "  Downloading PyMySQL-1.0.2-py3-none-any.whl (43 kB)\n",
            "\u001b[K     |████████████████████████████████| 43 kB 1.6 MB/s \n",
            "\u001b[?25hInstalling collected packages: pymysql\n",
            "Successfully installed pymysql-1.0.2\n"
          ]
        }
      ]
    },
    {
      "cell_type": "code",
      "source": [
        "#pip install mysql-connector-python-rf"
      ],
      "metadata": {
        "id": "NfzWZb5udMTj",
        "colab": {
          "base_uri": "https://localhost:8080/"
        },
        "outputId": "322d2582-d797-4ee5-aae7-c1121489352e"
      },
      "execution_count": null,
      "outputs": [
        {
          "output_type": "stream",
          "name": "stdout",
          "text": [
            "Looking in indexes: https://pypi.org/simple, https://us-python.pkg.dev/colab-wheels/public/simple/\n",
            "Collecting mysql-connector-python-rf\n",
            "  Downloading mysql-connector-python-rf-2.2.2.tar.gz (11.9 MB)\n",
            "\u001b[K     |████████████████████████████████| 11.9 MB 3.9 MB/s \n",
            "\u001b[?25hBuilding wheels for collected packages: mysql-connector-python-rf\n",
            "  Building wheel for mysql-connector-python-rf (setup.py) ... \u001b[?25l\u001b[?25hdone\n",
            "  Created wheel for mysql-connector-python-rf: filename=mysql_connector_python_rf-2.2.2-cp37-cp37m-linux_x86_64.whl size=249476 sha256=976f3b90cb58039a6e4f6e5411ae845565981a2c0374dcb5ed3aeb7406af9098\n",
            "  Stored in directory: /root/.cache/pip/wheels/68/59/cf/3b03557b26b4c75af3788a553e0ff9cf0b37a22d0c9cb01979\n",
            "Successfully built mysql-connector-python-rf\n",
            "Installing collected packages: mysql-connector-python-rf\n",
            "Successfully installed mysql-connector-python-rf-2.2.2\n"
          ]
        }
      ]
    },
    {
      "cell_type": "markdown",
      "source": [
        "##create_df"
      ],
      "metadata": {
        "id": "3neFRwvidNl5"
      }
    },
    {
      "cell_type": "code",
      "source": [
        "# -*- coding: utf-8 -*-\n",
        "import time\n",
        "import pandas as pd\n",
        "import pickle\n",
        "import paramiko\n",
        "import pymysql\n",
        "import json\n",
        "\n",
        "\n",
        "\n",
        "\n",
        "class project_recom(object):\n",
        "    def __init__(self):\n",
        "        with open('project_dict_view.json') as json_file:\n",
        "          self.project_dict = json.load(json_file)\n",
        " #      self.project_dict = load_sim_table_from_MySQL()[0]\n",
        "        self.click_table = pd.read_csv('top_click_all.csv')\n",
        "        self.user_sim_table = pd.read_csv('user_sim_table.csv')\n",
        "        self.project_sim_table = pd.read_csv('project_sim_table.csv')\n",
        "        self.upload_project = pd.read_csv('upload_project.csv')\n",
        "        self.user_list = list(set(self.user_sim_table['user_id'].tolist()))\n",
        " #       self.user_list = load_user_list()\n",
        "\n",
        "    def recom_score(self, uid, project_id):\n",
        "        view_score = self.project_dict[str(project_id)]\n",
        "        encode_score = 0\n",
        "        history = self.get_project_num(self.click_table[self.click_table['uid']==uid])\n",
        "        history.extend(self.upload_project[self.upload_project['publisher_id']==uid]['project_id'].values) #add uploaded project num\n",
        "        if len(history) != 0:\n",
        "            sim_score_data=pd.DataFrame(None)\n",
        "            for project in history:\n",
        "                #switch, search for project most similar to project_id\n",
        "                sim_score_temp = self.project_sim_table[(self.project_sim_table['pid']==int(project))&(self.project_sim_table['encode_sim']==project_id)]\n",
        "                sim_score_data = pd.concat([sim_score_data,sim_score_temp])\n",
        "                sim_score_temp_2 = self.project_sim_table[(self.project_sim_table['pid']==int(project_id))&(self.project_sim_table['encode_sim']==project)]\n",
        "                sim_score_data = pd.concat([sim_score_data,sim_score_temp])\n",
        "            if len(sim_score_data)>0:\n",
        "                encode_score = float(sim_score_data.sort_values(by='encode_sim_score', ascending=False)['encode_sim_score'].values[0])/100\n",
        "        \n",
        "        total_score = float(view_score)*0.5 + float(encode_score)*0.5\n",
        "        return total_score\n",
        "\n",
        "    def get_userbased_project_list(self, uid, n_near, m_recent):\n",
        "        sim_user_list = self.user_sim_table[self.user_sim_table['user_id']==uid]['sim_user'][0:n_near]\n",
        "        project_list = []\n",
        "        if len(sim_user_list) != 0:\n",
        "            for sim_user in sim_user_list:\n",
        "                project_list.extend(self.get_project_num(self.click_table[self.click_table['uid']==sim_user])[:m_recent])\n",
        "        \n",
        "        project_list = list(set(project_list))\n",
        "        return project_list\n",
        "    \n",
        "    def get_contentbased_project_list(self, uid, n_near, m_recent):\n",
        "        history = self.get_project_num(self.click_table[self.click_table['uid']==uid])[:m_recent]\n",
        "        history.extend(self.upload_project[self.upload_project['publisher_id']==uid]['project_id'].values) #add uploaded project num\n",
        "        project_list = []\n",
        "        if len(history) != 0:\n",
        "            for pid in history:\n",
        "                project_list.extend(self.project_sim_table[self.project_sim_table['pid']==int(pid)]['encode_sim'][0:n_near])\n",
        "                \n",
        "        \n",
        "        project_list = list(set(project_list))\n",
        "        return project_list\n",
        "                \n",
        "    \n",
        " \n",
        "    def update_single_user(self, uid):\n",
        "        usr_project_list = self.get_userbased_project_list(uid, 9, 9)\n",
        "        cont_project_list = self.get_contentbased_project_list(uid, 9, 9)\n",
        "        project_list = list(set(usr_project_list+cont_project_list))\n",
        "        project_recom_df = pd.DataFrame(None)\n",
        "        if len(project_list)!=0:\n",
        "            project_recom_list = []\n",
        "            for elem in project_list:\n",
        "                if str(elem) in list(self.project_dict): #make sure they are in the project table\n",
        "                    project_recom_list.append({'user': uid, 'project': elem,'rec_score':self.recom_score(uid,elem) })\n",
        "            project_recom_df = pd.DataFrame(project_recom_list)\n",
        "            if len(project_recom_df)>0: #in case there are no projects applicable\n",
        "                project_recom_df = project_recom_df.sort_values(by='rec_score',ascending=False)\n",
        "            project_recom_df = project_recom_df.reset_index(drop=True)\n",
        "        return project_recom_df    \n",
        "\n",
        "    def update_all_user(self):\n",
        "        project_rec_table = pd.DataFrame(None)\n",
        "        for uid in self.user_list:\n",
        "            project_rec_temp = self.update_single_user(uid)\n",
        "            print(uid)\n",
        "            project_rec_table = pd.concat([project_rec_table, project_rec_temp], ignore_index=True)\n",
        "        return project_rec_table\n",
        "\n",
        "\n",
        "    def get_project_num(self,data):\n",
        "        num_list = []\n",
        "        if len(data)==0:\n",
        "            return num_list   \n",
        "        clean_data = data['node'].values[0].replace('[','').replace(']','').replace(\"'\",\"\")\n",
        "        if len(clean_data)==0:\n",
        "            return num_list\n",
        "        for node in clean_data.split(','):\n",
        "            num_list.append(node.split('/')[-1])\n",
        "        return num_list\n",
        "    \n",
        "    \n",
        "    \n",
        "\n",
        "if __name__ == '__main__':\n",
        "    x = project_recom()\n",
        "    #recom = x.update_whole_table()\n",
        "    start = time.time()\n",
        "    #recom1 = x.get_userbased_project_list(488)\n",
        "    #recom2 = x.get_contentbased_project_list(99)\n",
        "    recom = x.update_single_user(488)\n",
        "    #print (time.time()-start)\n"
      ],
      "metadata": {
        "id": "bmzAiae7c5Bw"
      },
      "execution_count": null,
      "outputs": []
    },
    {
      "cell_type": "markdown",
      "source": [
        "##recom_df"
      ],
      "metadata": {
        "id": "Bh8BKtFYdVYu"
      }
    },
    {
      "cell_type": "code",
      "source": [
        "# -*- coding: utf-8 -*-\n",
        "project_recom_user = project_recom()\n",
        "non_empty_user = project_recom_user.update_all_user()"
      ],
      "metadata": {
        "id": "dvvnYj9ddbx-"
      },
      "execution_count": null,
      "outputs": []
    },
    {
      "cell_type": "code",
      "source": [
        "non_empty_user"
      ],
      "metadata": {
        "id": "iSMMsLMCdeq6"
      },
      "execution_count": null,
      "outputs": []
    },
    {
      "cell_type": "code",
      "source": [
        "project_dic = project_recom_user.project_dict\n",
        "project_dict_view = project_recom_user.project_dict\n",
        "project_dict_view = (sorted(project_dict_view.items(), key=lambda item: item[1], reverse=True))\n",
        "#{0: 0, 2: 1, 1: 2, 4: 3, 3: 4}#(sorted(x.items(), key=lambda item: item[1]))\n",
        "pop_list = []\n",
        "for i in range(10):\n",
        "  pop_list.append(int(project_dict_view[i][0]))\n",
        "pop_list"
      ],
      "metadata": {
        "id": "bYeSShl5diEt",
        "colab": {
          "base_uri": "https://localhost:8080/"
        },
        "outputId": "5a9f8af2-8c32-4ee8-8f47-2e32b64b16f5"
      },
      "execution_count": null,
      "outputs": [
        {
          "output_type": "execute_result",
          "data": {
            "text/plain": [
              "[815, 432, 1017, 1522, 646, 1975, 1674, 458, 314, 902]"
            ]
          },
          "metadata": {},
          "execution_count": 38
        }
      ]
    },
    {
      "cell_type": "code",
      "source": [
        "non_empty_list = non_empty_user['user'].tolist()\n",
        "user_sim_table = pd.read_csv('user_sim_table.csv')\n",
        "user_list = list(set(user_sim_table['user_id'].tolist()))"
      ],
      "metadata": {
        "id": "hYjjTs1fdlCB"
      },
      "execution_count": null,
      "outputs": []
    },
    {
      "cell_type": "code",
      "source": [
        "import random\n",
        "gen_recom_list = []\n",
        "for i in range (len(user_list)):\n",
        "  if user_list[i] not in  non_empty_list:\n",
        "    random_list = random.sample(pop_list, 5)\n",
        "    for j in range (5):\n",
        "      gen_recom = []\n",
        "      gen_recom.append(user_list[i])\n",
        "      gen_recom.append(random_list[j])\n",
        "      gen_recom.append(0.5*project_dic[str(random_list[j])])\n",
        "      gen_recom_list.append(gen_recom)\n",
        "gen_recom_list"
      ],
      "metadata": {
        "id": "EfK3TffrdoV2"
      },
      "execution_count": null,
      "outputs": []
    },
    {
      "cell_type": "code",
      "source": [
        "recom_list = non_empty_user.values.tolist()\n",
        "from pandas.core import missing\n",
        "from collections import Counter\n",
        "recom_list_exist = []\n",
        "for i in range (len(recom_list)):\n",
        "  recom_list_exist.append(recom_list[i][0])\n",
        "count_recom = dict(Counter(recom_list_exist))\n",
        "missing_dic = {}\n",
        "for item in count_recom.keys():\n",
        "  if count_recom[item] < 5:\n",
        "    missing_dic[item] = 5-count_recom[item]"
      ],
      "metadata": {
        "id": "cDMskkwLdp31"
      },
      "execution_count": null,
      "outputs": []
    },
    {
      "cell_type": "code",
      "source": [
        "missing_list = list(map(list, missing_dic.items()))\n",
        "recom_fill = []\n",
        "for i in range (len(missing_list)):\n",
        "  for j in range (missing_list[i][1]):\n",
        "      random_list = random.sample(pop_list, missing_list[i][1])\n",
        "      gen_recom = []\n",
        "      gen_recom.append(missing_list[i][0])\n",
        "      gen_recom.append(random_list[j])\n",
        "      gen_recom.append(0.5*project_dic[str(random_list[j])])\n",
        "      recom_fill.append(gen_recom)\n",
        "gen_recom"
      ],
      "metadata": {
        "id": "xYsQZEs3dvHc",
        "colab": {
          "base_uri": "https://localhost:8080/"
        },
        "outputId": "74ade165-1e08-4efe-d799-ac5e4ae488e1"
      },
      "execution_count": null,
      "outputs": [
        {
          "output_type": "execute_result",
          "data": {
            "text/plain": [
              "[1996, 1017, 0.4935689211441361]"
            ]
          },
          "metadata": {},
          "execution_count": 44
        }
      ]
    },
    {
      "cell_type": "code",
      "source": [
        "total_list = recom_list + gen_recom_list + recom_fill"
      ],
      "metadata": {
        "id": "XsFm2g8Udz5P"
      },
      "execution_count": null,
      "outputs": []
    },
    {
      "cell_type": "code",
      "source": [
        "recom_df_total = pd.DataFrame(sorted(total_list, key=lambda x: x[0]))\n",
        "recom_df_total.columns = ['user','project','recom_score']"
      ],
      "metadata": {
        "id": "6a1ql7Ood2E0"
      },
      "execution_count": null,
      "outputs": []
    },
    {
      "cell_type": "code",
      "source": [
        "recom_df_total= recom_df_total.sort_values(by=['user', 'recom_score'])\n",
        "recom_df_total"
      ],
      "metadata": {
        "colab": {
          "base_uri": "https://localhost:8080/",
          "height": 424
        },
        "id": "NdHkzb9rKKrm",
        "outputId": "d85758ba-da55-449d-ae79-e47a585c6471"
      },
      "execution_count": null,
      "outputs": [
        {
          "output_type": "execute_result",
          "data": {
            "text/plain": [
              "      user project  recom_score\n",
              "2        1    1334     0.181500\n",
              "1        1    1785     0.320949\n",
              "0        1     562     0.385483\n",
              "4        1     432     0.497119\n",
              "3        1     815     0.497993\n",
              "...    ...     ...          ...\n",
              "6685  1998     902     0.462465\n",
              "6683  1998     314     0.464192\n",
              "6684  1998    1674     0.478222\n",
              "6681  1998    1017     0.493569\n",
              "6682  1998     432     0.497119\n",
              "\n",
              "[6686 rows x 3 columns]"
            ],
            "text/html": [
              "\n",
              "  <div id=\"df-7bbc792c-e361-4900-8908-1b6bd6c3ba66\">\n",
              "    <div class=\"colab-df-container\">\n",
              "      <div>\n",
              "<style scoped>\n",
              "    .dataframe tbody tr th:only-of-type {\n",
              "        vertical-align: middle;\n",
              "    }\n",
              "\n",
              "    .dataframe tbody tr th {\n",
              "        vertical-align: top;\n",
              "    }\n",
              "\n",
              "    .dataframe thead th {\n",
              "        text-align: right;\n",
              "    }\n",
              "</style>\n",
              "<table border=\"1\" class=\"dataframe\">\n",
              "  <thead>\n",
              "    <tr style=\"text-align: right;\">\n",
              "      <th></th>\n",
              "      <th>user</th>\n",
              "      <th>project</th>\n",
              "      <th>recom_score</th>\n",
              "    </tr>\n",
              "  </thead>\n",
              "  <tbody>\n",
              "    <tr>\n",
              "      <th>2</th>\n",
              "      <td>1</td>\n",
              "      <td>1334</td>\n",
              "      <td>0.181500</td>\n",
              "    </tr>\n",
              "    <tr>\n",
              "      <th>1</th>\n",
              "      <td>1</td>\n",
              "      <td>1785</td>\n",
              "      <td>0.320949</td>\n",
              "    </tr>\n",
              "    <tr>\n",
              "      <th>0</th>\n",
              "      <td>1</td>\n",
              "      <td>562</td>\n",
              "      <td>0.385483</td>\n",
              "    </tr>\n",
              "    <tr>\n",
              "      <th>4</th>\n",
              "      <td>1</td>\n",
              "      <td>432</td>\n",
              "      <td>0.497119</td>\n",
              "    </tr>\n",
              "    <tr>\n",
              "      <th>3</th>\n",
              "      <td>1</td>\n",
              "      <td>815</td>\n",
              "      <td>0.497993</td>\n",
              "    </tr>\n",
              "    <tr>\n",
              "      <th>...</th>\n",
              "      <td>...</td>\n",
              "      <td>...</td>\n",
              "      <td>...</td>\n",
              "    </tr>\n",
              "    <tr>\n",
              "      <th>6685</th>\n",
              "      <td>1998</td>\n",
              "      <td>902</td>\n",
              "      <td>0.462465</td>\n",
              "    </tr>\n",
              "    <tr>\n",
              "      <th>6683</th>\n",
              "      <td>1998</td>\n",
              "      <td>314</td>\n",
              "      <td>0.464192</td>\n",
              "    </tr>\n",
              "    <tr>\n",
              "      <th>6684</th>\n",
              "      <td>1998</td>\n",
              "      <td>1674</td>\n",
              "      <td>0.478222</td>\n",
              "    </tr>\n",
              "    <tr>\n",
              "      <th>6681</th>\n",
              "      <td>1998</td>\n",
              "      <td>1017</td>\n",
              "      <td>0.493569</td>\n",
              "    </tr>\n",
              "    <tr>\n",
              "      <th>6682</th>\n",
              "      <td>1998</td>\n",
              "      <td>432</td>\n",
              "      <td>0.497119</td>\n",
              "    </tr>\n",
              "  </tbody>\n",
              "</table>\n",
              "<p>6686 rows × 3 columns</p>\n",
              "</div>\n",
              "      <button class=\"colab-df-convert\" onclick=\"convertToInteractive('df-7bbc792c-e361-4900-8908-1b6bd6c3ba66')\"\n",
              "              title=\"Convert this dataframe to an interactive table.\"\n",
              "              style=\"display:none;\">\n",
              "        \n",
              "  <svg xmlns=\"http://www.w3.org/2000/svg\" height=\"24px\"viewBox=\"0 0 24 24\"\n",
              "       width=\"24px\">\n",
              "    <path d=\"M0 0h24v24H0V0z\" fill=\"none\"/>\n",
              "    <path d=\"M18.56 5.44l.94 2.06.94-2.06 2.06-.94-2.06-.94-.94-2.06-.94 2.06-2.06.94zm-11 1L8.5 8.5l.94-2.06 2.06-.94-2.06-.94L8.5 2.5l-.94 2.06-2.06.94zm10 10l.94 2.06.94-2.06 2.06-.94-2.06-.94-.94-2.06-.94 2.06-2.06.94z\"/><path d=\"M17.41 7.96l-1.37-1.37c-.4-.4-.92-.59-1.43-.59-.52 0-1.04.2-1.43.59L10.3 9.45l-7.72 7.72c-.78.78-.78 2.05 0 2.83L4 21.41c.39.39.9.59 1.41.59.51 0 1.02-.2 1.41-.59l7.78-7.78 2.81-2.81c.8-.78.8-2.07 0-2.86zM5.41 20L4 18.59l7.72-7.72 1.47 1.35L5.41 20z\"/>\n",
              "  </svg>\n",
              "      </button>\n",
              "      \n",
              "  <style>\n",
              "    .colab-df-container {\n",
              "      display:flex;\n",
              "      flex-wrap:wrap;\n",
              "      gap: 12px;\n",
              "    }\n",
              "\n",
              "    .colab-df-convert {\n",
              "      background-color: #E8F0FE;\n",
              "      border: none;\n",
              "      border-radius: 50%;\n",
              "      cursor: pointer;\n",
              "      display: none;\n",
              "      fill: #1967D2;\n",
              "      height: 32px;\n",
              "      padding: 0 0 0 0;\n",
              "      width: 32px;\n",
              "    }\n",
              "\n",
              "    .colab-df-convert:hover {\n",
              "      background-color: #E2EBFA;\n",
              "      box-shadow: 0px 1px 2px rgba(60, 64, 67, 0.3), 0px 1px 3px 1px rgba(60, 64, 67, 0.15);\n",
              "      fill: #174EA6;\n",
              "    }\n",
              "\n",
              "    [theme=dark] .colab-df-convert {\n",
              "      background-color: #3B4455;\n",
              "      fill: #D2E3FC;\n",
              "    }\n",
              "\n",
              "    [theme=dark] .colab-df-convert:hover {\n",
              "      background-color: #434B5C;\n",
              "      box-shadow: 0px 1px 3px 1px rgba(0, 0, 0, 0.15);\n",
              "      filter: drop-shadow(0px 1px 2px rgba(0, 0, 0, 0.3));\n",
              "      fill: #FFFFFF;\n",
              "    }\n",
              "  </style>\n",
              "\n",
              "      <script>\n",
              "        const buttonEl =\n",
              "          document.querySelector('#df-7bbc792c-e361-4900-8908-1b6bd6c3ba66 button.colab-df-convert');\n",
              "        buttonEl.style.display =\n",
              "          google.colab.kernel.accessAllowed ? 'block' : 'none';\n",
              "\n",
              "        async function convertToInteractive(key) {\n",
              "          const element = document.querySelector('#df-7bbc792c-e361-4900-8908-1b6bd6c3ba66');\n",
              "          const dataTable =\n",
              "            await google.colab.kernel.invokeFunction('convertToInteractive',\n",
              "                                                     [key], {});\n",
              "          if (!dataTable) return;\n",
              "\n",
              "          const docLinkHtml = 'Like what you see? Visit the ' +\n",
              "            '<a target=\"_blank\" href=https://colab.research.google.com/notebooks/data_table.ipynb>data table notebook</a>'\n",
              "            + ' to learn more about interactive tables.';\n",
              "          element.innerHTML = '';\n",
              "          dataTable['output_type'] = 'display_data';\n",
              "          await google.colab.output.renderOutput(dataTable, element);\n",
              "          const docLink = document.createElement('div');\n",
              "          docLink.innerHTML = docLinkHtml;\n",
              "          element.appendChild(docLink);\n",
              "        }\n",
              "      </script>\n",
              "    </div>\n",
              "  </div>\n",
              "  "
            ]
          },
          "metadata": {},
          "execution_count": 53
        }
      ]
    },
    {
      "cell_type": "code",
      "source": [
        "recom_df_total.to_csv('recommendation.csv')"
      ],
      "metadata": {
        "id": "z106UtbId4Jl"
      },
      "execution_count": null,
      "outputs": []
    }
  ]
}